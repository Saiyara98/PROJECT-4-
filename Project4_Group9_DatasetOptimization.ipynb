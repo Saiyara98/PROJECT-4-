{
  "cells": [
    {
      "cell_type": "code",
      "execution_count": 32,
      "metadata": {
        "colab": {
          "base_uri": "https://localhost:8080/"
        },
        "id": "LaKwMfY2Eymi",
        "outputId": "a8152691-0ea3-4d12-93dc-0acb9a0428ce"
      },
      "outputs": [
        {
          "output_type": "stream",
          "name": "stdout",
          "text": [
            "Requirement already satisfied: pyspark in /usr/local/lib/python3.10/dist-packages (3.5.0)\n",
            "Requirement already satisfied: py4j==0.10.9.7 in /usr/local/lib/python3.10/dist-packages (from pyspark) (0.10.9.7)\n",
            "Requirement already satisfied: py4j in /usr/local/lib/python3.10/dist-packages (0.10.9.7)\n"
          ]
        }
      ],
      "source": [
        "!wget -q https://dlcdn.apache.org/spark/spark-3.5.0/spark-3.5.0-bin-hadoop3.tgz\n",
        "!tar xf spark-3.5.0-bin-hadoop3.tgz\n",
        "!pip install -q findspark\n",
        "!pip install pyspark\n",
        "!pip install py4j\n",
        "\n",
        "import os\n",
        "import shutil\n",
        "import sys\n",
        "\n",
        "# os.environ[\"JAVA_HOME\"] = \"/usr/lib/jvm/java-8-openjdk-amd64\"\n",
        "# os.environ[\"SPARK_HOME\"] = \"/content/spark-3.2.1-bin-hadoop3.2\"\n",
        "\n",
        "import findspark\n",
        "findspark.init()"
      ]
    },
    {
      "cell_type": "code",
      "source": [
        "from pyspark.sql import SparkSession\n",
        "from pyspark.sql.functions import col, when, lag, coalesce, lit, isnan\n",
        "from pyspark.sql.window import Window\n",
        "from google.colab import files, drive\n",
        "from pyspark.sql.types import IntegerType"
      ],
      "metadata": {
        "id": "2mkgJ9BZE2th"
      },
      "execution_count": 247,
      "outputs": []
    },
    {
      "cell_type": "code",
      "source": [
        "drive.mount('/content/drive')"
      ],
      "metadata": {
        "colab": {
          "base_uri": "https://localhost:8080/"
        },
        "id": "h_cg1Y5VLMrM",
        "outputId": "3bc5bed6-42b2-43e1-f71b-77fd4147814a"
      },
      "execution_count": 248,
      "outputs": [
        {
          "output_type": "stream",
          "name": "stdout",
          "text": [
            "Drive already mounted at /content/drive; to attempt to forcibly remount, call drive.mount(\"/content/drive\", force_remount=True).\n"
          ]
        }
      ]
    },
    {
      "cell_type": "code",
      "source": [
        "spark = SparkSession.builder.appName(\"SparkSQL\").getOrCreate()"
      ],
      "metadata": {
        "id": "PgWkXK1xE4W7"
      },
      "execution_count": 249,
      "outputs": []
    },
    {
      "cell_type": "code",
      "source": [
        "csv_file_name = \"amz_ca_total_products_data_processed\"\n",
        "csv_file_path = f'/content/drive/MyDrive/{csv_file_name}.csv'"
      ],
      "metadata": {
        "id": "FxBGAqme67SY"
      },
      "execution_count": 250,
      "outputs": []
    },
    {
      "cell_type": "code",
      "source": [
        "parquet_file_path = \"amz_ca_total_products_data_processed.parquet\""
      ],
      "metadata": {
        "id": "kb6YaIw1IEe5"
      },
      "execution_count": 251,
      "outputs": []
    },
    {
      "cell_type": "code",
      "source": [
        "if os.path.exists(parquet_file_path):\n",
        "    print(f\"Deleting existing Parquet directory at {parquet_file_path}\")\n",
        "    shutil.rmtree(parquet_file_path)"
      ],
      "metadata": {
        "colab": {
          "base_uri": "https://localhost:8080/"
        },
        "id": "lq7vDEqkIFtm",
        "outputId": "a3bbd14c-0973-425d-888f-4fc44f728776"
      },
      "execution_count": 252,
      "outputs": [
        {
          "output_type": "stream",
          "name": "stdout",
          "text": [
            "Deleting existing Parquet directory at amz_ca_total_products_data_processed.parquet\n"
          ]
        }
      ]
    },
    {
      "cell_type": "code",
      "source": [
        "df = spark.read.option(\"header\", \"true\").csv(csv_file_path)"
      ],
      "metadata": {
        "id": "7_pitgd3Gif4"
      },
      "execution_count": 253,
      "outputs": []
    },
    {
      "cell_type": "code",
      "source": [
        "df.printSchema()\n",
        "df.show(5)"
      ],
      "metadata": {
        "id": "oCOZsHbLGlof",
        "colab": {
          "base_uri": "https://localhost:8080/"
        },
        "outputId": "936b15c9-1d3d-4c8e-a8f9-073715b315c5"
      },
      "execution_count": 254,
      "outputs": [
        {
          "output_type": "stream",
          "name": "stdout",
          "text": [
            "root\n",
            " |-- asin: string (nullable = true)\n",
            " |-- title: string (nullable = true)\n",
            " |-- imgUrl: string (nullable = true)\n",
            " |-- productURL: string (nullable = true)\n",
            " |-- stars: string (nullable = true)\n",
            " |-- reviews: string (nullable = true)\n",
            " |-- price: string (nullable = true)\n",
            " |-- listPrice: string (nullable = true)\n",
            " |-- categoryName: string (nullable = true)\n",
            " |-- isBestSeller: string (nullable = true)\n",
            " |-- boughtInLastMonth: string (nullable = true)\n",
            "\n",
            "+----------+--------------------+--------------------+--------------------+------------------+--------------------+--------------------+---------+--------------------+------------+-----------------+\n",
            "|      asin|               title|              imgUrl|          productURL|             stars|             reviews|               price|listPrice|        categoryName|isBestSeller|boughtInLastMonth|\n",
            "+----------+--------------------+--------------------+--------------------+------------------+--------------------+--------------------+---------+--------------------+------------+-----------------+\n",
            "|B07CV4L6HX|Green Leaf WW3D W...|https://m.media-a...|https://www.amazo...|               4.4|                2876|               47.69|      0.0|Industrial  Scien...|       False|                0|\n",
            "|B09N1HGY74|8pcs Toilet Seat ...|https://m.media-a...|https://www.amazo...|               3.8|                  55|               10.99|      0.0|Industrial  Scien...|       False|              100|\n",
            "|B087P7538J|YaeCCC 19 Pcs Hol...|https://m.media-a...|https://www.amazo...|               4.0|                 126|               25.99|    27.99|Industrial  Scien...|       False|               50|\n",
            "|B0822FF7YQ|LLPT Butyl Putty ...|https://m.media-a...|https://www.amazo...|               4.5|                1936|               21.99|    30.99|Industrial  Scien...|       False|              100|\n",
            "|B08NTR8NN4|\"Lightbeam 16\"\" L...| Instant Read 2\"\"...|            Broiling| BBQ & Turkey ...\"|https://m.media-a...|https://www.amazo...|      4.2|                  46|       18.99|              0.0|\n",
            "+----------+--------------------+--------------------+--------------------+------------------+--------------------+--------------------+---------+--------------------+------------+-----------------+\n",
            "only showing top 5 rows\n",
            "\n"
          ]
        }
      ]
    },
    {
      "cell_type": "code",
      "source": [
        "schema_transformations = {\n",
        "    \"asin\": \"string\",\n",
        "    \"title\": \"string\",\n",
        "    \"imgUrl\": \"string\",\n",
        "    \"productURL\": \"string\",\n",
        "    \"stars\": \"integer\",\n",
        "    \"reviews\": \"integer\",\n",
        "    \"price\": \"integer\",\n",
        "    \"listPrice\": \"integer\",\n",
        "    \"categoryName\": \"string\",\n",
        "    \"isBestSeller\": \"string\",\n",
        "    \"boughtInLastMonth\": \"integer\"\n",
        "}"
      ],
      "metadata": {
        "id": "mxWMIk48K2DX"
      },
      "execution_count": 255,
      "outputs": []
    },
    {
      "cell_type": "code",
      "source": [
        "for column_name, data_type in schema_transformations.items():\n",
        "    df = df.withColumn(column_name, col(column_name).cast(data_type))"
      ],
      "metadata": {
        "id": "4DNUT8hOK3DQ"
      },
      "execution_count": 256,
      "outputs": []
    },
    {
      "cell_type": "code",
      "source": [
        "df.printSchema()\n",
        "df.show(5)"
      ],
      "metadata": {
        "colab": {
          "base_uri": "https://localhost:8080/"
        },
        "id": "cDuJ1OkaK5FB",
        "outputId": "49a04c00-238e-40d6-803d-e46f109206e4"
      },
      "execution_count": 257,
      "outputs": [
        {
          "output_type": "stream",
          "name": "stdout",
          "text": [
            "root\n",
            " |-- asin: string (nullable = true)\n",
            " |-- title: string (nullable = true)\n",
            " |-- imgUrl: string (nullable = true)\n",
            " |-- productURL: string (nullable = true)\n",
            " |-- stars: integer (nullable = true)\n",
            " |-- reviews: integer (nullable = true)\n",
            " |-- price: integer (nullable = true)\n",
            " |-- listPrice: integer (nullable = true)\n",
            " |-- categoryName: string (nullable = true)\n",
            " |-- isBestSeller: string (nullable = true)\n",
            " |-- boughtInLastMonth: integer (nullable = true)\n",
            "\n",
            "+----------+--------------------+--------------------+--------------------+-----+-------+-----+---------+--------------------+------------+-----------------+\n",
            "|      asin|               title|              imgUrl|          productURL|stars|reviews|price|listPrice|        categoryName|isBestSeller|boughtInLastMonth|\n",
            "+----------+--------------------+--------------------+--------------------+-----+-------+-----+---------+--------------------+------------+-----------------+\n",
            "|B07CV4L6HX|Green Leaf WW3D W...|https://m.media-a...|https://www.amazo...|    4|   2876|   47|        0|Industrial  Scien...|       False|                0|\n",
            "|B09N1HGY74|8pcs Toilet Seat ...|https://m.media-a...|https://www.amazo...|    3|     55|   10|        0|Industrial  Scien...|       False|              100|\n",
            "|B087P7538J|YaeCCC 19 Pcs Hol...|https://m.media-a...|https://www.amazo...|    4|    126|   25|       27|Industrial  Scien...|       False|               50|\n",
            "|B0822FF7YQ|LLPT Butyl Putty ...|https://m.media-a...|https://www.amazo...|    4|   1936|   21|       30|Industrial  Scien...|       False|              100|\n",
            "|B08NTR8NN4|\"Lightbeam 16\"\" L...| Instant Read 2\"\"...|            Broiling| NULL|   NULL| NULL|        4|                  46|       18.99|                0|\n",
            "+----------+--------------------+--------------------+--------------------+-----+-------+-----+---------+--------------------+------------+-----------------+\n",
            "only showing top 5 rows\n",
            "\n"
          ]
        }
      ]
    },
    {
      "cell_type": "code",
      "source": [
        "df.write.parquet(parquet_file_path)"
      ],
      "metadata": {
        "id": "ascbZXQ8Gs2Q"
      },
      "execution_count": 258,
      "outputs": []
    },
    {
      "cell_type": "code",
      "source": [
        "df_parquet = spark.read.parquet(parquet_file_path)"
      ],
      "metadata": {
        "id": "bCdAAWLWHaa8"
      },
      "execution_count": 259,
      "outputs": []
    },
    {
      "cell_type": "code",
      "source": [
        "df_parquet.printSchema()\n",
        "df_parquet.show()"
      ],
      "metadata": {
        "id": "wuxXKNPjHbpM",
        "colab": {
          "base_uri": "https://localhost:8080/"
        },
        "outputId": "ee4c7dfb-ab29-4b82-cae6-4422d356c458"
      },
      "execution_count": 260,
      "outputs": [
        {
          "output_type": "stream",
          "name": "stdout",
          "text": [
            "root\n",
            " |-- asin: string (nullable = true)\n",
            " |-- title: string (nullable = true)\n",
            " |-- imgUrl: string (nullable = true)\n",
            " |-- productURL: string (nullable = true)\n",
            " |-- stars: integer (nullable = true)\n",
            " |-- reviews: integer (nullable = true)\n",
            " |-- price: integer (nullable = true)\n",
            " |-- listPrice: integer (nullable = true)\n",
            " |-- categoryName: string (nullable = true)\n",
            " |-- isBestSeller: string (nullable = true)\n",
            " |-- boughtInLastMonth: integer (nullable = true)\n",
            "\n",
            "+----------+--------------------+--------------------+--------------------+-----+-------+-----+---------+------------------+------------------+-----------------+\n",
            "|      asin|               title|              imgUrl|          productURL|stars|reviews|price|listPrice|      categoryName|      isBestSeller|boughtInLastMonth|\n",
            "+----------+--------------------+--------------------+--------------------+-----+-------+-----+---------+------------------+------------------+-----------------+\n",
            "|B0BNHZJ1SS|Kids Baby Doll St...|https://m.media-a...|https://www.amazo...|    2|      2|   16|        0|Dolls  Accessories|             False|                0|\n",
            "|B0BN68RYZH|Doll Stroller Pla...|https://m.media-a...|https://www.amazo...|    2|      4|   22|        0|Dolls  Accessories|             False|                0|\n",
            "|B0BM5VSK11|eveseed 5 Inch Si...|https://m.media-a...|https://www.amazo...|    4|     23|   37|        0|Dolls  Accessories|             False|                0|\n",
            "|B0BM3R2J1W|Doll Stroller Toy...|https://m.media-a...|https://www.amazo...|    3|      6|    0|        0|Dolls  Accessories|             False|                0|\n",
            "|B0BH1J3FGV|Computer, Doll Ho...|https://m.media-a...|https://www.amazo...|    5|      1|   18|        0|Dolls  Accessories|             False|                0|\n",
            "|B0BG442L1R|Dollhouse Antique...|https://m.media-a...|https://www.amazo...|    0|      0|   10|        0|Dolls  Accessories|             False|                0|\n",
            "|B0BCWLDMJY|Dollhouse Decorat...|https://m.media-a...|https://www.amazo...|    5|      4|   20|        0|Dolls  Accessories|             False|                0|\n",
            "|B0B6RLX3FQ|Wamdoll 19 inches...|https://m.media-a...|https://www.amazo...|    0|      0|   85|        0|Dolls  Accessories|             False|                0|\n",
            "|B0B6RJRMZL|Wamdoll 24 inches...|https://m.media-a...|https://www.amazo...|    0|      0|   99|        0|Dolls  Accessories|             False|                0|\n",
            "|B0B6FZJDB3|Sedir Little Pock...|https://m.media-a...|https://www.amazo...|    5|      1|   10|        0|Dolls  Accessories|             False|                0|\n",
            "|B0B4K1X8F2|STOBOK 1 Set Mini...|https://m.media-a...|https://www.amazo...|    0|      0|    9|        0|Dolls  Accessories|             False|                0|\n",
            "|B0B2QZDNZK|DUDULUNA Realisti...|https://m.media-a...|https://www.amazo...|    5|      2|   79|        0|Dolls  Accessories|             False|                0|\n",
            "|B09WNC8FV8|Living Dead Dolls...|https://m.media-a...|https://www.amazo...|    4|      5|   99|        0|Dolls  Accessories|             False|                0|\n",
            "|B09WGVRBZ6|NUOBESTY Japanese...|https://m.media-a...|https://www.amazo...|    3|     14|   17|        0|Dolls  Accessories|             False|                0|\n",
            "|B09VY999DL|\"Cabbage Patch Ki...|             Yellow\"|https://m.media-a...| NULL|      0|    0|       39|               0.0|Dolls  Accessories|             NULL|\n",
            "|B09SPHSSQQ|Odoria 1/12 Scale...|https://m.media-a...|https://www.amazo...|    0|      0|    9|        0|Dolls  Accessories|             False|                0|\n",
            "|B09R485J1L|Good Smile Nendor...|https://m.media-a...|https://www.amazo...|    4|     10|   20|        0|Dolls  Accessories|             False|                0|\n",
            "|B09QS69DPS|Lifelike Reborn B...|https://m.media-a...|https://www.amazo...|    4|    311|  131|        0|Dolls  Accessories|             False|                0|\n",
            "|B09Q4GJ3GG|Real Littles - Co...|https://m.media-a...|https://www.amazo...|    4|    155|   31|       33|Dolls  Accessories|             False|                0|\n",
            "|B09Q3SYF8L|Shopkins S16 Coll...|https://m.media-a...|https://www.amazo...|    4|   1016|   70|        0|Dolls  Accessories|             False|                0|\n",
            "+----------+--------------------+--------------------+--------------------+-----+-------+-----+---------+------------------+------------------+-----------------+\n",
            "only showing top 20 rows\n",
            "\n"
          ]
        }
      ]
    },
    {
      "cell_type": "code",
      "source": [
        "columns_to_drop = [\"asin\", \"title\", \"imgUrl\", \"productURL\"]\n",
        "df_parquet = df_parquet.drop(*columns_to_drop)\n",
        "df_parquet.show()"
      ],
      "metadata": {
        "id": "HhEM6BnoHcD8",
        "colab": {
          "base_uri": "https://localhost:8080/"
        },
        "outputId": "4d01955d-f4c0-4976-e3c6-0d0a955a575c"
      },
      "execution_count": 261,
      "outputs": [
        {
          "output_type": "stream",
          "name": "stdout",
          "text": [
            "+-----+-------+-----+---------+------------------+------------------+-----------------+\n",
            "|stars|reviews|price|listPrice|      categoryName|      isBestSeller|boughtInLastMonth|\n",
            "+-----+-------+-----+---------+------------------+------------------+-----------------+\n",
            "|    2|      2|   16|        0|Dolls  Accessories|             False|                0|\n",
            "|    2|      4|   22|        0|Dolls  Accessories|             False|                0|\n",
            "|    4|     23|   37|        0|Dolls  Accessories|             False|                0|\n",
            "|    3|      6|    0|        0|Dolls  Accessories|             False|                0|\n",
            "|    5|      1|   18|        0|Dolls  Accessories|             False|                0|\n",
            "|    0|      0|   10|        0|Dolls  Accessories|             False|                0|\n",
            "|    5|      4|   20|        0|Dolls  Accessories|             False|                0|\n",
            "|    0|      0|   85|        0|Dolls  Accessories|             False|                0|\n",
            "|    0|      0|   99|        0|Dolls  Accessories|             False|                0|\n",
            "|    5|      1|   10|        0|Dolls  Accessories|             False|                0|\n",
            "|    0|      0|    9|        0|Dolls  Accessories|             False|                0|\n",
            "|    5|      2|   79|        0|Dolls  Accessories|             False|                0|\n",
            "|    4|      5|   99|        0|Dolls  Accessories|             False|                0|\n",
            "|    3|     14|   17|        0|Dolls  Accessories|             False|                0|\n",
            "| NULL|      0|    0|       39|               0.0|Dolls  Accessories|             NULL|\n",
            "|    0|      0|    9|        0|Dolls  Accessories|             False|                0|\n",
            "|    4|     10|   20|        0|Dolls  Accessories|             False|                0|\n",
            "|    4|    311|  131|        0|Dolls  Accessories|             False|                0|\n",
            "|    4|    155|   31|       33|Dolls  Accessories|             False|                0|\n",
            "|    4|   1016|   70|        0|Dolls  Accessories|             False|                0|\n",
            "+-----+-------+-----+---------+------------------+------------------+-----------------+\n",
            "only showing top 20 rows\n",
            "\n"
          ]
        }
      ]
    },
    {
      "cell_type": "code",
      "source": [
        "row_count_before = df_parquet.count()"
      ],
      "metadata": {
        "id": "TWUlVKlGMw0g"
      },
      "execution_count": 262,
      "outputs": []
    },
    {
      "cell_type": "code",
      "source": [
        "df_parquet_cleaned = df_parquet.na.drop(subset=[\"stars\"])"
      ],
      "metadata": {
        "id": "pV6-FbPhM84j"
      },
      "execution_count": 263,
      "outputs": []
    },
    {
      "cell_type": "code",
      "source": [
        "row_count_after = df_parquet_cleaned.count()\n"
      ],
      "metadata": {
        "id": "Vmunk_HAM_3N"
      },
      "execution_count": 264,
      "outputs": []
    },
    {
      "cell_type": "code",
      "source": [
        "removed_rows_count = row_count_before - row_count_after\n",
        "\n",
        "print(f\"Removed {removed_rows_count} rows with null values\")"
      ],
      "metadata": {
        "colab": {
          "base_uri": "https://localhost:8080/"
        },
        "id": "ueCoM3xoNZgC",
        "outputId": "34623802-3ded-4352-e293-44bc91362d17"
      },
      "execution_count": 270,
      "outputs": [
        {
          "output_type": "stream",
          "name": "stdout",
          "text": [
            "Removed 52582 rows with null values\n"
          ]
        }
      ]
    },
    {
      "cell_type": "code",
      "source": [
        "df_parquet_cleaned.show()"
      ],
      "metadata": {
        "colab": {
          "base_uri": "https://localhost:8080/"
        },
        "id": "WNR8sYRLNccV",
        "outputId": "c5a08559-a68a-4218-abdb-9e5ae21402cb"
      },
      "execution_count": 269,
      "outputs": [
        {
          "output_type": "stream",
          "name": "stdout",
          "text": [
            "+-----+-------+-----+---------+------------------+------------+-----------------+\n",
            "|stars|reviews|price|listPrice|      categoryName|isBestSeller|boughtInLastMonth|\n",
            "+-----+-------+-----+---------+------------------+------------+-----------------+\n",
            "|    2|      2|   16|        0|Dolls  Accessories|       False|                0|\n",
            "|    2|      4|   22|        0|Dolls  Accessories|       False|                0|\n",
            "|    4|     23|   37|        0|Dolls  Accessories|       False|                0|\n",
            "|    3|      6|    0|        0|Dolls  Accessories|       False|                0|\n",
            "|    5|      1|   18|        0|Dolls  Accessories|       False|                0|\n",
            "|    0|      0|   10|        0|Dolls  Accessories|       False|                0|\n",
            "|    5|      4|   20|        0|Dolls  Accessories|       False|                0|\n",
            "|    0|      0|   85|        0|Dolls  Accessories|       False|                0|\n",
            "|    0|      0|   99|        0|Dolls  Accessories|       False|                0|\n",
            "|    5|      1|   10|        0|Dolls  Accessories|       False|                0|\n",
            "|    0|      0|    9|        0|Dolls  Accessories|       False|                0|\n",
            "|    5|      2|   79|        0|Dolls  Accessories|       False|                0|\n",
            "|    4|      5|   99|        0|Dolls  Accessories|       False|                0|\n",
            "|    3|     14|   17|        0|Dolls  Accessories|       False|                0|\n",
            "|    0|      0|    9|        0|Dolls  Accessories|       False|                0|\n",
            "|    4|     10|   20|        0|Dolls  Accessories|       False|                0|\n",
            "|    4|    311|  131|        0|Dolls  Accessories|       False|                0|\n",
            "|    4|    155|   31|       33|Dolls  Accessories|       False|                0|\n",
            "|    4|   1016|   70|        0|Dolls  Accessories|       False|                0|\n",
            "|    3|      3|   27|        0|Dolls  Accessories|       False|                0|\n",
            "+-----+-------+-----+---------+------------------+------------+-----------------+\n",
            "only showing top 20 rows\n",
            "\n"
          ]
        }
      ]
    },
    {
      "cell_type": "code",
      "source": [
        "csv_output_path = \"/content/drive/MyDrive/amz_ca_total_products_data_processed_optimized.csv\"\n",
        "df_parquet.coalesce(1).write.mode(\"overwrite\").option(\"header\", \"true\").option(\"sep\", \",\").csv(csv_output_path)"
      ],
      "metadata": {
        "id": "D9hm-lhdHi0o"
      },
      "execution_count": 267,
      "outputs": []
    }
  ],
  "metadata": {
    "language_info": {
      "name": "python"
    },
    "colab": {
      "provenance": []
    },
    "kernelspec": {
      "name": "python3",
      "display_name": "Python 3"
    }
  },
  "nbformat": 4,
  "nbformat_minor": 0
}