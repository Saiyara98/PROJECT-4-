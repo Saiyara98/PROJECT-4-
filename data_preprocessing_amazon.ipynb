{
  "cells": [
    {
      "cell_type": "code",
      "source": [
        "!wget -q https://dlcdn.apache.org/spark/spark-3.5.0/spark-3.5.0-bin-hadoop3.tgz\n",
        "!tar xf spark-3.5.0-bin-hadoop3.tgz\n",
        "!pip install -q findspark\n",
        "!pip install pyspark\n",
        "!pip install py4j\n",
        "import os\n",
        "import sys\n",
        "from sklearn.model_selection import train_test_split\n",
        "from sklearn.preprocessing import StandardScaler\n",
        "import pandas as pd\n",
        "import tensorflow as tf\n",
        "# os.environ[\"JAVA_HOME\"] = \"/usr/lib/jvm/java-8-openjdk-amd64\"\n",
        "# os.environ[\"SPARK_HOME\"] = \"/content/spark-3.2.1-bin-hadoop3.2\"\n",
        "# Start a SparkSession\n",
        "import findspark\n",
        "findspark.init()"
      ],
      "metadata": {
        "colab": {
          "base_uri": "https://localhost:8080/"
        },
        "id": "d3Z_B_ymg2b7",
        "outputId": "161c9012-5a87-45e6-94bf-89f3bdd85884"
      },
      "execution_count": 2,
      "outputs": [
        {
          "output_type": "stream",
          "name": "stdout",
          "text": [
            "Collecting pyspark\n",
            "  Downloading pyspark-3.5.0.tar.gz (316.9 MB)\n",
            "\u001b[2K     \u001b[90m━━━━━━━━━━━━━━━━━━━━━━━━━━━━━━━━━━━━━━━━\u001b[0m \u001b[32m316.9/316.9 MB\u001b[0m \u001b[31m1.8 MB/s\u001b[0m eta \u001b[36m0:00:00\u001b[0m\n",
            "\u001b[?25h  Preparing metadata (setup.py) ... \u001b[?25l\u001b[?25hdone\n",
            "Requirement already satisfied: py4j==0.10.9.7 in /usr/local/lib/python3.10/dist-packages (from pyspark) (0.10.9.7)\n",
            "Building wheels for collected packages: pyspark\n",
            "  Building wheel for pyspark (setup.py) ... \u001b[?25l\u001b[?25hdone\n",
            "  Created wheel for pyspark: filename=pyspark-3.5.0-py2.py3-none-any.whl size=317425345 sha256=5516f5f52d93a0237b8f0eef38bc9b8e16b20583bd5d423154c7edcb5dfcee5e\n",
            "  Stored in directory: /root/.cache/pip/wheels/41/4e/10/c2cf2467f71c678cfc8a6b9ac9241e5e44a01940da8fbb17fc\n",
            "Successfully built pyspark\n",
            "Installing collected packages: pyspark\n",
            "Successfully installed pyspark-3.5.0\n",
            "Requirement already satisfied: py4j in /usr/local/lib/python3.10/dist-packages (0.10.9.7)\n"
          ]
        }
      ]
    },
    {
      "cell_type": "code",
      "execution_count": 3,
      "metadata": {
        "id": "F9XysigJVDh1"
      },
      "outputs": [],
      "source": [
        "# Import packages\n",
        "from pyspark.sql import SparkSession\n",
        "import time\n",
        "\n",
        "# Create a SparkSession\n",
        "spark = SparkSession.builder.appName(\"MyApp\").getOrCreate()"
      ]
    },
    {
      "cell_type": "code",
      "execution_count": 89,
      "metadata": {
        "colab": {
          "base_uri": "https://localhost:8080/"
        },
        "id": "jMgslQ9yVDh2",
        "outputId": "6e830314-e0b0-4767-914d-431eae9796a6"
      },
      "outputs": [
        {
          "output_type": "stream",
          "name": "stdout",
          "text": [
            "+----------+--------------------+--------------------+--------------------+-----+-------+-----+---------+--------------------+------------+-----------------+\n",
            "|      asin|               title|              imgUrl|          productURL|stars|reviews|price|listPrice|        categoryName|isBestSeller|boughtInLastMonth|\n",
            "+----------+--------------------+--------------------+--------------------+-----+-------+-----+---------+--------------------+------------+-----------------+\n",
            "|B07CV4L6HX|Green Leaf WW3D W...|https://m.media-a...|https://www.amazo...|  4.4|   2876|47.69|      0.0|Industrial  Scien...|       false|                0|\n",
            "|B09N1HGY74|8pcs Toilet Seat ...|https://m.media-a...|https://www.amazo...|  3.8|     55|10.99|      0.0|Industrial  Scien...|       false|              100|\n",
            "|B087P7538J|YaeCCC 19 Pcs Hol...|https://m.media-a...|https://www.amazo...|  4.0|    126|25.99|    27.99|Industrial  Scien...|       false|               50|\n",
            "|B0822FF7YQ|LLPT Butyl Putty ...|https://m.media-a...|https://www.amazo...|  4.5|   1936|21.99|    30.99|Industrial  Scien...|       false|              100|\n",
            "|B08NTR8NN4|Lightbeam 16\" Lon...|https://m.media-a...|https://www.amazo...|  4.2|     46|18.99|      0.0|Industrial  Scien...|       false|              100|\n",
            "|B0BYT4SGZV|etguuds White USB...|https://m.media-a...|https://www.amazo...|  4.5|   2505|15.99|      0.0|Industrial  Scien...|       false|                0|\n",
            "|B07RQ5389H|REAQER CPAP Hose ...|https://m.media-a...|https://www.amazo...|  4.3|    216|27.99|      0.0|Industrial  Scien...|       false|               50|\n",
            "|B0B6VLNR45|SAVITA 2pcs Magne...|https://m.media-a...|https://www.amazo...|  4.0|     53| 9.99|      0.0|Industrial  Scien...|       false|               50|\n",
            "|B08LBYDZ1Q|Simba Lighting LE...|https://m.media-a...|https://www.amazo...|  4.5|    164|15.95|      0.0|Industrial  Scien...|       false|                0|\n",
            "|B07KMT96S2|Knife Sharpening ...|https://m.media-a...|https://www.amazo...|  4.4|    366|29.99|    35.99|Industrial  Scien...|       false|               50|\n",
            "|B084GZ28RK|Nelson Wood Shims...|https://m.media-a...|https://www.amazo...|  4.6|    874|12.99|      0.0|Industrial  Scien...|       false|               50|\n",
            "|B086HGQ97G|NYXCL 60Pcs 2 Inc...|https://m.media-a...|https://www.amazo...|  4.6|   1219|32.99|      0.0|Industrial  Scien...|       false|              100|\n",
            "|B00C589DKI|Alpine FlyFit - E...|https://m.media-a...|https://www.amazo...|  4.4|   4926|23.99|      0.0|Industrial  Scien...|       false|               50|\n",
            "|B08R8T657H|MIXPOWER Extra Lo...|https://m.media-a...|https://www.amazo...|  4.4|     82|19.97|    21.97|Industrial  Scien...|       false|                0|\n",
            "|B00NCRJK68|Party Essentials ...|https://m.media-a...|https://www.amazo...|  4.2|   1242| 9.71|      0.0|Industrial  Scien...|       false|              100|\n",
            "|B08ZQRSRM6|Utiva UTI Test St...|https://m.media-a...|https://www.amazo...|  4.4|    248|53.97|      0.0|Industrial  Scien...|        true|               50|\n",
            "|B07PP2KNNH|DEWENWILS Outdoor...|https://m.media-a...|https://www.amazo...|  4.1|   2221|81.99|      0.0|Industrial  Scien...|       false|                0|\n",
            "|B0BY4BDK7Y|KEMEXC Toilet Sea...|https://m.media-a...|https://www.amazo...|  4.6|     61|66.86|      0.0|Industrial  Scien...|       false|                0|\n",
            "|B088M3JCP2|Heat Insulation S...|https://m.media-a...|https://www.amazo...|  4.7|    142|21.99|    25.99|Industrial  Scien...|       false|               50|\n",
            "|B01MFER4XH|MulWark 6pc Premi...|https://m.media-a...|https://www.amazo...|  4.5|   3057|20.99|      0.0|Industrial  Scien...|       false|              100|\n",
            "+----------+--------------------+--------------------+--------------------+-----+-------+-----+---------+--------------------+------------+-----------------+\n",
            "only showing top 20 rows\n",
            "\n"
          ]
        }
      ],
      "source": [
        "# 1. Read in the csv as a DataFrame\n",
        "from pyspark import SparkFiles\n",
        "\n",
        "df = spark.read.csv(SparkFiles.get(\"/amz_ca_total_products_data_processed.csv\"), header=True, inferSchema=True, quote='\"', escape='\"')\n",
        "\n",
        "df.show()"
      ]
    },
    {
      "cell_type": "code",
      "source": [
        "df.printSchema()"
      ],
      "metadata": {
        "colab": {
          "base_uri": "https://localhost:8080/"
        },
        "id": "xT-_m-oww5Fl",
        "outputId": "77a23bef-97f5-465f-d640-7e0f72bfe497"
      },
      "execution_count": 90,
      "outputs": [
        {
          "output_type": "stream",
          "name": "stdout",
          "text": [
            "root\n",
            " |-- asin: string (nullable = true)\n",
            " |-- title: string (nullable = true)\n",
            " |-- imgUrl: string (nullable = true)\n",
            " |-- productURL: string (nullable = true)\n",
            " |-- stars: double (nullable = true)\n",
            " |-- reviews: integer (nullable = true)\n",
            " |-- price: double (nullable = true)\n",
            " |-- listPrice: double (nullable = true)\n",
            " |-- categoryName: string (nullable = true)\n",
            " |-- isBestSeller: boolean (nullable = true)\n",
            " |-- boughtInLastMonth: integer (nullable = true)\n",
            "\n"
          ]
        }
      ]
    },
    {
      "cell_type": "code",
      "source": [
        "# Drop unnecessary columns to the ML model\n",
        "df = df.drop(*['asin', 'title', 'imgUrl', 'productURL', 'listPrice'])\n",
        "df.show()"
      ],
      "metadata": {
        "id": "iJRw4c7GdUh0",
        "colab": {
          "base_uri": "https://localhost:8080/"
        },
        "outputId": "71faca9d-0b9e-4918-e43e-590818e31ead"
      },
      "execution_count": 91,
      "outputs": [
        {
          "output_type": "stream",
          "name": "stdout",
          "text": [
            "+-----+-------+-----+--------------------+------------+-----------------+\n",
            "|stars|reviews|price|        categoryName|isBestSeller|boughtInLastMonth|\n",
            "+-----+-------+-----+--------------------+------------+-----------------+\n",
            "|  4.4|   2876|47.69|Industrial  Scien...|       false|                0|\n",
            "|  3.8|     55|10.99|Industrial  Scien...|       false|              100|\n",
            "|  4.0|    126|25.99|Industrial  Scien...|       false|               50|\n",
            "|  4.5|   1936|21.99|Industrial  Scien...|       false|              100|\n",
            "|  4.2|     46|18.99|Industrial  Scien...|       false|              100|\n",
            "|  4.5|   2505|15.99|Industrial  Scien...|       false|                0|\n",
            "|  4.3|    216|27.99|Industrial  Scien...|       false|               50|\n",
            "|  4.0|     53| 9.99|Industrial  Scien...|       false|               50|\n",
            "|  4.5|    164|15.95|Industrial  Scien...|       false|                0|\n",
            "|  4.4|    366|29.99|Industrial  Scien...|       false|               50|\n",
            "|  4.6|    874|12.99|Industrial  Scien...|       false|               50|\n",
            "|  4.6|   1219|32.99|Industrial  Scien...|       false|              100|\n",
            "|  4.4|   4926|23.99|Industrial  Scien...|       false|               50|\n",
            "|  4.4|     82|19.97|Industrial  Scien...|       false|                0|\n",
            "|  4.2|   1242| 9.71|Industrial  Scien...|       false|              100|\n",
            "|  4.4|    248|53.97|Industrial  Scien...|        true|               50|\n",
            "|  4.1|   2221|81.99|Industrial  Scien...|       false|                0|\n",
            "|  4.6|     61|66.86|Industrial  Scien...|       false|                0|\n",
            "|  4.7|    142|21.99|Industrial  Scien...|       false|               50|\n",
            "|  4.5|   3057|20.99|Industrial  Scien...|       false|              100|\n",
            "+-----+-------+-----+--------------------+------------+-----------------+\n",
            "only showing top 20 rows\n",
            "\n"
          ]
        }
      ]
    },
    {
      "cell_type": "code",
      "source": [
        "# Ensure all rows are there\n",
        "df.count()"
      ],
      "metadata": {
        "colab": {
          "base_uri": "https://localhost:8080/"
        },
        "id": "mgFx23vGv1sR",
        "outputId": "870aa0f5-f85d-4842-e774-9f4f10d7bb07"
      },
      "execution_count": 92,
      "outputs": [
        {
          "output_type": "execute_result",
          "data": {
            "text/plain": [
              "2165926"
            ]
          },
          "metadata": {},
          "execution_count": 92
        }
      ]
    },
    {
      "cell_type": "code",
      "source": [
        "# Drop NaN Values\n",
        "df = df.dropna()\n",
        "df.show()"
      ],
      "metadata": {
        "colab": {
          "base_uri": "https://localhost:8080/"
        },
        "id": "vhB0oxU2wGP4",
        "outputId": "7b0143c8-c1ec-4090-e5c7-2fc7b28fb147"
      },
      "execution_count": 93,
      "outputs": [
        {
          "output_type": "stream",
          "name": "stdout",
          "text": [
            "+-----+-------+-----+--------------------+------------+-----------------+\n",
            "|stars|reviews|price|        categoryName|isBestSeller|boughtInLastMonth|\n",
            "+-----+-------+-----+--------------------+------------+-----------------+\n",
            "|  4.4|   2876|47.69|Industrial  Scien...|       false|                0|\n",
            "|  3.8|     55|10.99|Industrial  Scien...|       false|              100|\n",
            "|  4.0|    126|25.99|Industrial  Scien...|       false|               50|\n",
            "|  4.5|   1936|21.99|Industrial  Scien...|       false|              100|\n",
            "|  4.2|     46|18.99|Industrial  Scien...|       false|              100|\n",
            "|  4.5|   2505|15.99|Industrial  Scien...|       false|                0|\n",
            "|  4.3|    216|27.99|Industrial  Scien...|       false|               50|\n",
            "|  4.0|     53| 9.99|Industrial  Scien...|       false|               50|\n",
            "|  4.5|    164|15.95|Industrial  Scien...|       false|                0|\n",
            "|  4.4|    366|29.99|Industrial  Scien...|       false|               50|\n",
            "|  4.6|    874|12.99|Industrial  Scien...|       false|               50|\n",
            "|  4.6|   1219|32.99|Industrial  Scien...|       false|              100|\n",
            "|  4.4|   4926|23.99|Industrial  Scien...|       false|               50|\n",
            "|  4.4|     82|19.97|Industrial  Scien...|       false|                0|\n",
            "|  4.2|   1242| 9.71|Industrial  Scien...|       false|              100|\n",
            "|  4.4|    248|53.97|Industrial  Scien...|        true|               50|\n",
            "|  4.1|   2221|81.99|Industrial  Scien...|       false|                0|\n",
            "|  4.6|     61|66.86|Industrial  Scien...|       false|                0|\n",
            "|  4.7|    142|21.99|Industrial  Scien...|       false|               50|\n",
            "|  4.5|   3057|20.99|Industrial  Scien...|       false|              100|\n",
            "+-----+-------+-----+--------------------+------------+-----------------+\n",
            "only showing top 20 rows\n",
            "\n"
          ]
        }
      ]
    },
    {
      "cell_type": "code",
      "source": [
        "# Count rows without N/A values\n",
        "df.count()"
      ],
      "metadata": {
        "colab": {
          "base_uri": "https://localhost:8080/"
        },
        "id": "WhytNw-VwqhN",
        "outputId": "32acea03-e621-4772-fadb-641d815ae50e"
      },
      "execution_count": 94,
      "outputs": [
        {
          "output_type": "execute_result",
          "data": {
            "text/plain": [
              "2165926"
            ]
          },
          "metadata": {},
          "execution_count": 94
        }
      ]
    },
    {
      "cell_type": "code",
      "execution_count": 95,
      "metadata": {
        "id": "w26ZHO3EVDh2",
        "colab": {
          "base_uri": "https://localhost:8080/"
        },
        "outputId": "f4411e89-773d-4f0e-fec5-d4ec35b3ae16"
      },
      "outputs": [
        {
          "output_type": "stream",
          "name": "stdout",
          "text": [
            "+-----+-------+-----+------------+------------+-----------------+\n",
            "|stars|reviews|price|categoryName|isBestSeller|boughtInLastMonth|\n",
            "+-----+-------+-----+------------+------------+-----------------+\n",
            "+-----+-------+-----+------------+------------+-----------------+\n",
            "\n"
          ]
        }
      ],
      "source": [
        "# Check for stars column errors\n",
        "df.filter((df['stars'] > 5) | (df['stars'] < 0)).show()"
      ]
    },
    {
      "cell_type": "code",
      "source": [
        "# remove rows with unknown prices\n",
        "df = df.filter(df['price'] != 0)\n",
        "df.show()"
      ],
      "metadata": {
        "colab": {
          "base_uri": "https://localhost:8080/"
        },
        "id": "jyPufHVp7ZMf",
        "outputId": "df7c7577-012c-4fb2-9a46-09512d021d8a"
      },
      "execution_count": 96,
      "outputs": [
        {
          "output_type": "stream",
          "name": "stdout",
          "text": [
            "+-----+-------+-----+--------------------+------------+-----------------+\n",
            "|stars|reviews|price|        categoryName|isBestSeller|boughtInLastMonth|\n",
            "+-----+-------+-----+--------------------+------------+-----------------+\n",
            "|  4.4|   2876|47.69|Industrial  Scien...|       false|                0|\n",
            "|  3.8|     55|10.99|Industrial  Scien...|       false|              100|\n",
            "|  4.0|    126|25.99|Industrial  Scien...|       false|               50|\n",
            "|  4.5|   1936|21.99|Industrial  Scien...|       false|              100|\n",
            "|  4.2|     46|18.99|Industrial  Scien...|       false|              100|\n",
            "|  4.5|   2505|15.99|Industrial  Scien...|       false|                0|\n",
            "|  4.3|    216|27.99|Industrial  Scien...|       false|               50|\n",
            "|  4.0|     53| 9.99|Industrial  Scien...|       false|               50|\n",
            "|  4.5|    164|15.95|Industrial  Scien...|       false|                0|\n",
            "|  4.4|    366|29.99|Industrial  Scien...|       false|               50|\n",
            "|  4.6|    874|12.99|Industrial  Scien...|       false|               50|\n",
            "|  4.6|   1219|32.99|Industrial  Scien...|       false|              100|\n",
            "|  4.4|   4926|23.99|Industrial  Scien...|       false|               50|\n",
            "|  4.4|     82|19.97|Industrial  Scien...|       false|                0|\n",
            "|  4.2|   1242| 9.71|Industrial  Scien...|       false|              100|\n",
            "|  4.4|    248|53.97|Industrial  Scien...|        true|               50|\n",
            "|  4.1|   2221|81.99|Industrial  Scien...|       false|                0|\n",
            "|  4.6|     61|66.86|Industrial  Scien...|       false|                0|\n",
            "|  4.7|    142|21.99|Industrial  Scien...|       false|               50|\n",
            "|  4.5|   3057|20.99|Industrial  Scien...|       false|              100|\n",
            "+-----+-------+-----+--------------------+------------+-----------------+\n",
            "only showing top 20 rows\n",
            "\n"
          ]
        }
      ]
    },
    {
      "cell_type": "code",
      "source": [
        "# Rows without unkown prices\n",
        "df.count()"
      ],
      "metadata": {
        "colab": {
          "base_uri": "https://localhost:8080/"
        },
        "id": "i3jopFlq8Ett",
        "outputId": "f4ef2a9c-7452-45a7-907c-9b84bcc958da"
      },
      "execution_count": 97,
      "outputs": [
        {
          "output_type": "execute_result",
          "data": {
            "text/plain": [
              "1988016"
            ]
          },
          "metadata": {},
          "execution_count": 97
        }
      ]
    },
    {
      "cell_type": "code",
      "source": [
        "# Check unique values in category column\n",
        "df.select(df['categoryName']).distinct().count()"
      ],
      "metadata": {
        "colab": {
          "base_uri": "https://localhost:8080/"
        },
        "id": "P5BqJz1o0Mxm",
        "outputId": "15789cc1-0781-47df-b46f-d9c0524a9a45"
      },
      "execution_count": 98,
      "outputs": [
        {
          "output_type": "execute_result",
          "data": {
            "text/plain": [
              "266"
            ]
          },
          "metadata": {},
          "execution_count": 98
        }
      ]
    },
    {
      "cell_type": "code",
      "source": [
        "# Get the top 30 categories\n",
        "top_30_categories = df.groupBy('categoryName').count().orderBy('count', ascending=False).limit(30)\n",
        "\n",
        "# Extract the top 30 category names into a list\n",
        "top_30_category_names = [row['categoryName'] for row in top_30_categories.collect()]\n",
        "\n",
        "# Filter the DataFrame to keep only the rows with category names in the top 30 list\n",
        "filtered_df = df.filter(df['categoryName'].isin(top_30_category_names))\n",
        "\n",
        "filtered_df.show()"
      ],
      "metadata": {
        "colab": {
          "base_uri": "https://localhost:8080/"
        },
        "id": "56HJwIVh1LCN",
        "outputId": "0f1b07af-019f-4282-fab8-17dcc1575a62"
      },
      "execution_count": 99,
      "outputs": [
        {
          "output_type": "stream",
          "name": "stdout",
          "text": [
            "+-----+-------+------+--------------------+------------+-----------------+\n",
            "|stars|reviews| price|        categoryName|isBestSeller|boughtInLastMonth|\n",
            "+-----+-------+------+--------------------+------------+-----------------+\n",
            "|  4.5|  43171| 29.99|Motorcycle Access...|        true|                0|\n",
            "|  4.7|    215|  5.98|Motorcycle Access...|        true|              900|\n",
            "|  3.9|   1006| 14.22|Motorcycle Access...|        true|             1000|\n",
            "|  4.3|  17381| 12.99|Motorcycle Access...|        true|              900|\n",
            "|  5.0|      1| 21.69|Motorcycle Access...|        true|              200|\n",
            "|  4.7|   2441|  8.98|Motorcycle Access...|       false|             1000|\n",
            "|  4.7|    646| 11.99|Motorcycle Access...|       false|              400|\n",
            "|  4.7|   5311| 13.06|Motorcycle Access...|       false|              400|\n",
            "|  4.8|    454|  5.97|Motorcycle Access...|       false|              500|\n",
            "|  2.1|      5| 14.37|Motorcycle Access...|       false|              800|\n",
            "|  4.6|  22466|  22.4|Motorcycle Access...|       false|                0|\n",
            "|  4.3|   9150|  24.5|Motorcycle Access...|       false|              400|\n",
            "|  4.4|  54079| 32.99|Motorcycle Access...|       false|              300|\n",
            "|  4.8|     29| 22.99|Motorcycle Access...|       false|                0|\n",
            "|  4.7|   2785|449.99|Motorcycle Access...|        true|              100|\n",
            "|  4.3|   1317| 19.99|Motorcycle Access...|       false|                0|\n",
            "|  4.4|  10166| 35.99|Motorcycle Access...|        true|              200|\n",
            "|  4.6|   3417| 32.99|Motorcycle Access...|       false|                0|\n",
            "|  4.7|    120|  9.05|Motorcycle Access...|       false|              200|\n",
            "|  4.6|    298|  9.99|Motorcycle Access...|        true|              300|\n",
            "+-----+-------+------+--------------------+------------+-----------------+\n",
            "only showing top 20 rows\n",
            "\n"
          ]
        }
      ]
    },
    {
      "cell_type": "code",
      "source": [
        "# Check to see if only 30 categories are left as expected\n",
        "filtered_df.select(df['categoryName']).distinct().count()"
      ],
      "metadata": {
        "colab": {
          "base_uri": "https://localhost:8080/"
        },
        "id": "xITBXPSB39-U",
        "outputId": "287a666b-7d05-4831-f163-a19091cbdad6"
      },
      "execution_count": 100,
      "outputs": [
        {
          "output_type": "execute_result",
          "data": {
            "text/plain": [
              "30"
            ]
          },
          "metadata": {},
          "execution_count": 100
        }
      ]
    },
    {
      "cell_type": "code",
      "source": [
        "# Count rows with filtered categories\n",
        "filtered_df.count()"
      ],
      "metadata": {
        "colab": {
          "base_uri": "https://localhost:8080/"
        },
        "id": "Qd71xw5T3W2m",
        "outputId": "58bfebd1-16cf-4b72-f9ec-8b264dd8671d"
      },
      "execution_count": 101,
      "outputs": [
        {
          "output_type": "execute_result",
          "data": {
            "text/plain": [
              "489909"
            ]
          },
          "metadata": {},
          "execution_count": 101
        }
      ]
    },
    {
      "cell_type": "code",
      "source": [
        "# Confirm that none of the values in Target column are non boolean\n",
        "filtered_df.filter(~df['isBestSeller'].isin([True, False])).show()"
      ],
      "metadata": {
        "colab": {
          "base_uri": "https://localhost:8080/"
        },
        "id": "QHFel6E3y-5g",
        "outputId": "7447beab-25b6-4744-da85-ea85bced3887"
      },
      "execution_count": 102,
      "outputs": [
        {
          "output_type": "stream",
          "name": "stdout",
          "text": [
            "+-----+-------+-----+------------+------------+-----------------+\n",
            "|stars|reviews|price|categoryName|isBestSeller|boughtInLastMonth|\n",
            "+-----+-------+-----+------------+------------+-----------------+\n",
            "+-----+-------+-----+------------+------------+-----------------+\n",
            "\n"
          ]
        }
      ]
    },
    {
      "cell_type": "code",
      "source": [
        "# Change isBestSeller column to binary\n",
        "from pyspark.sql.functions import when\n",
        "\n",
        "# Convert 'isBestSeller' column to binary 1-0 representation\n",
        "filtered_df = filtered_df.withColumn('isBestSeller', when(df['isBestSeller'] == True, 1).otherwise(0))\n",
        "\n",
        "filtered_df.show()"
      ],
      "metadata": {
        "colab": {
          "base_uri": "https://localhost:8080/"
        },
        "id": "JipLs8GkzFla",
        "outputId": "0506712c-5cba-417a-dbdf-457d5b0c07f3"
      },
      "execution_count": 103,
      "outputs": [
        {
          "output_type": "stream",
          "name": "stdout",
          "text": [
            "+-----+-------+------+--------------------+------------+-----------------+\n",
            "|stars|reviews| price|        categoryName|isBestSeller|boughtInLastMonth|\n",
            "+-----+-------+------+--------------------+------------+-----------------+\n",
            "|  4.5|  43171| 29.99|Motorcycle Access...|           1|                0|\n",
            "|  4.7|    215|  5.98|Motorcycle Access...|           1|              900|\n",
            "|  3.9|   1006| 14.22|Motorcycle Access...|           1|             1000|\n",
            "|  4.3|  17381| 12.99|Motorcycle Access...|           1|              900|\n",
            "|  5.0|      1| 21.69|Motorcycle Access...|           1|              200|\n",
            "|  4.7|   2441|  8.98|Motorcycle Access...|           0|             1000|\n",
            "|  4.7|    646| 11.99|Motorcycle Access...|           0|              400|\n",
            "|  4.7|   5311| 13.06|Motorcycle Access...|           0|              400|\n",
            "|  4.8|    454|  5.97|Motorcycle Access...|           0|              500|\n",
            "|  2.1|      5| 14.37|Motorcycle Access...|           0|              800|\n",
            "|  4.6|  22466|  22.4|Motorcycle Access...|           0|                0|\n",
            "|  4.3|   9150|  24.5|Motorcycle Access...|           0|              400|\n",
            "|  4.4|  54079| 32.99|Motorcycle Access...|           0|              300|\n",
            "|  4.8|     29| 22.99|Motorcycle Access...|           0|                0|\n",
            "|  4.7|   2785|449.99|Motorcycle Access...|           1|              100|\n",
            "|  4.3|   1317| 19.99|Motorcycle Access...|           0|                0|\n",
            "|  4.4|  10166| 35.99|Motorcycle Access...|           1|              200|\n",
            "|  4.6|   3417| 32.99|Motorcycle Access...|           0|                0|\n",
            "|  4.7|    120|  9.05|Motorcycle Access...|           0|              200|\n",
            "|  4.6|    298|  9.99|Motorcycle Access...|           1|              300|\n",
            "+-----+-------+------+--------------------+------------+-----------------+\n",
            "only showing top 20 rows\n",
            "\n"
          ]
        }
      ]
    },
    {
      "cell_type": "code",
      "source": [
        "# Double check counts stayed the same\n",
        "filtered_df.count()"
      ],
      "metadata": {
        "colab": {
          "base_uri": "https://localhost:8080/"
        },
        "id": "1Ab3uMzX8_4S",
        "outputId": "102a7440-6425-4c34-8b24-083822982658"
      },
      "execution_count": 104,
      "outputs": [
        {
          "output_type": "execute_result",
          "data": {
            "text/plain": [
              "489909"
            ]
          },
          "metadata": {},
          "execution_count": 104
        }
      ]
    },
    {
      "cell_type": "code",
      "source": [
        "import pandas as pd\n",
        "\n",
        "# Convert PySpark DataFrame to Pandas DataFrame\n",
        "pandas_df = filtered_df.toPandas()\n",
        "\n",
        "# Now you can work with the Pandas DataFrame as usual\n",
        "pandas_df.head()"
      ],
      "metadata": {
        "colab": {
          "base_uri": "https://localhost:8080/",
          "height": 206
        },
        "id": "d1igySeA9A_3",
        "outputId": "7508e9d3-4fef-4f32-e914-d40db9d9d1f9"
      },
      "execution_count": 108,
      "outputs": [
        {
          "output_type": "execute_result",
          "data": {
            "text/plain": [
              "   stars  reviews  price                   categoryName  isBestSeller  \\\n",
              "0    4.5    43171  29.99  Motorcycle Accessories  Parts             1   \n",
              "1    4.7      215   5.98  Motorcycle Accessories  Parts             1   \n",
              "2    3.9     1006  14.22  Motorcycle Accessories  Parts             1   \n",
              "3    4.3    17381  12.99  Motorcycle Accessories  Parts             1   \n",
              "4    5.0        1  21.69  Motorcycle Accessories  Parts             1   \n",
              "\n",
              "   boughtInLastMonth  \n",
              "0                  0  \n",
              "1                900  \n",
              "2               1000  \n",
              "3                900  \n",
              "4                200  "
            ],
            "text/html": [
              "\n",
              "  <div id=\"df-c13719be-24c7-489e-b56b-0100efa0280b\" class=\"colab-df-container\">\n",
              "    <div>\n",
              "<style scoped>\n",
              "    .dataframe tbody tr th:only-of-type {\n",
              "        vertical-align: middle;\n",
              "    }\n",
              "\n",
              "    .dataframe tbody tr th {\n",
              "        vertical-align: top;\n",
              "    }\n",
              "\n",
              "    .dataframe thead th {\n",
              "        text-align: right;\n",
              "    }\n",
              "</style>\n",
              "<table border=\"1\" class=\"dataframe\">\n",
              "  <thead>\n",
              "    <tr style=\"text-align: right;\">\n",
              "      <th></th>\n",
              "      <th>stars</th>\n",
              "      <th>reviews</th>\n",
              "      <th>price</th>\n",
              "      <th>categoryName</th>\n",
              "      <th>isBestSeller</th>\n",
              "      <th>boughtInLastMonth</th>\n",
              "    </tr>\n",
              "  </thead>\n",
              "  <tbody>\n",
              "    <tr>\n",
              "      <th>0</th>\n",
              "      <td>4.5</td>\n",
              "      <td>43171</td>\n",
              "      <td>29.99</td>\n",
              "      <td>Motorcycle Accessories  Parts</td>\n",
              "      <td>1</td>\n",
              "      <td>0</td>\n",
              "    </tr>\n",
              "    <tr>\n",
              "      <th>1</th>\n",
              "      <td>4.7</td>\n",
              "      <td>215</td>\n",
              "      <td>5.98</td>\n",
              "      <td>Motorcycle Accessories  Parts</td>\n",
              "      <td>1</td>\n",
              "      <td>900</td>\n",
              "    </tr>\n",
              "    <tr>\n",
              "      <th>2</th>\n",
              "      <td>3.9</td>\n",
              "      <td>1006</td>\n",
              "      <td>14.22</td>\n",
              "      <td>Motorcycle Accessories  Parts</td>\n",
              "      <td>1</td>\n",
              "      <td>1000</td>\n",
              "    </tr>\n",
              "    <tr>\n",
              "      <th>3</th>\n",
              "      <td>4.3</td>\n",
              "      <td>17381</td>\n",
              "      <td>12.99</td>\n",
              "      <td>Motorcycle Accessories  Parts</td>\n",
              "      <td>1</td>\n",
              "      <td>900</td>\n",
              "    </tr>\n",
              "    <tr>\n",
              "      <th>4</th>\n",
              "      <td>5.0</td>\n",
              "      <td>1</td>\n",
              "      <td>21.69</td>\n",
              "      <td>Motorcycle Accessories  Parts</td>\n",
              "      <td>1</td>\n",
              "      <td>200</td>\n",
              "    </tr>\n",
              "  </tbody>\n",
              "</table>\n",
              "</div>\n",
              "    <div class=\"colab-df-buttons\">\n",
              "\n",
              "  <div class=\"colab-df-container\">\n",
              "    <button class=\"colab-df-convert\" onclick=\"convertToInteractive('df-c13719be-24c7-489e-b56b-0100efa0280b')\"\n",
              "            title=\"Convert this dataframe to an interactive table.\"\n",
              "            style=\"display:none;\">\n",
              "\n",
              "  <svg xmlns=\"http://www.w3.org/2000/svg\" height=\"24px\" viewBox=\"0 -960 960 960\">\n",
              "    <path d=\"M120-120v-720h720v720H120Zm60-500h600v-160H180v160Zm220 220h160v-160H400v160Zm0 220h160v-160H400v160ZM180-400h160v-160H180v160Zm440 0h160v-160H620v160ZM180-180h160v-160H180v160Zm440 0h160v-160H620v160Z\"/>\n",
              "  </svg>\n",
              "    </button>\n",
              "\n",
              "  <style>\n",
              "    .colab-df-container {\n",
              "      display:flex;\n",
              "      gap: 12px;\n",
              "    }\n",
              "\n",
              "    .colab-df-convert {\n",
              "      background-color: #E8F0FE;\n",
              "      border: none;\n",
              "      border-radius: 50%;\n",
              "      cursor: pointer;\n",
              "      display: none;\n",
              "      fill: #1967D2;\n",
              "      height: 32px;\n",
              "      padding: 0 0 0 0;\n",
              "      width: 32px;\n",
              "    }\n",
              "\n",
              "    .colab-df-convert:hover {\n",
              "      background-color: #E2EBFA;\n",
              "      box-shadow: 0px 1px 2px rgba(60, 64, 67, 0.3), 0px 1px 3px 1px rgba(60, 64, 67, 0.15);\n",
              "      fill: #174EA6;\n",
              "    }\n",
              "\n",
              "    .colab-df-buttons div {\n",
              "      margin-bottom: 4px;\n",
              "    }\n",
              "\n",
              "    [theme=dark] .colab-df-convert {\n",
              "      background-color: #3B4455;\n",
              "      fill: #D2E3FC;\n",
              "    }\n",
              "\n",
              "    [theme=dark] .colab-df-convert:hover {\n",
              "      background-color: #434B5C;\n",
              "      box-shadow: 0px 1px 3px 1px rgba(0, 0, 0, 0.15);\n",
              "      filter: drop-shadow(0px 1px 2px rgba(0, 0, 0, 0.3));\n",
              "      fill: #FFFFFF;\n",
              "    }\n",
              "  </style>\n",
              "\n",
              "    <script>\n",
              "      const buttonEl =\n",
              "        document.querySelector('#df-c13719be-24c7-489e-b56b-0100efa0280b button.colab-df-convert');\n",
              "      buttonEl.style.display =\n",
              "        google.colab.kernel.accessAllowed ? 'block' : 'none';\n",
              "\n",
              "      async function convertToInteractive(key) {\n",
              "        const element = document.querySelector('#df-c13719be-24c7-489e-b56b-0100efa0280b');\n",
              "        const dataTable =\n",
              "          await google.colab.kernel.invokeFunction('convertToInteractive',\n",
              "                                                    [key], {});\n",
              "        if (!dataTable) return;\n",
              "\n",
              "        const docLinkHtml = 'Like what you see? Visit the ' +\n",
              "          '<a target=\"_blank\" href=https://colab.research.google.com/notebooks/data_table.ipynb>data table notebook</a>'\n",
              "          + ' to learn more about interactive tables.';\n",
              "        element.innerHTML = '';\n",
              "        dataTable['output_type'] = 'display_data';\n",
              "        await google.colab.output.renderOutput(dataTable, element);\n",
              "        const docLink = document.createElement('div');\n",
              "        docLink.innerHTML = docLinkHtml;\n",
              "        element.appendChild(docLink);\n",
              "      }\n",
              "    </script>\n",
              "  </div>\n",
              "\n",
              "\n",
              "<div id=\"df-e636a448-d8dc-4c6a-a830-d11379f9a7ce\">\n",
              "  <button class=\"colab-df-quickchart\" onclick=\"quickchart('df-e636a448-d8dc-4c6a-a830-d11379f9a7ce')\"\n",
              "            title=\"Suggest charts\"\n",
              "            style=\"display:none;\">\n",
              "\n",
              "<svg xmlns=\"http://www.w3.org/2000/svg\" height=\"24px\"viewBox=\"0 0 24 24\"\n",
              "     width=\"24px\">\n",
              "    <g>\n",
              "        <path d=\"M19 3H5c-1.1 0-2 .9-2 2v14c0 1.1.9 2 2 2h14c1.1 0 2-.9 2-2V5c0-1.1-.9-2-2-2zM9 17H7v-7h2v7zm4 0h-2V7h2v10zm4 0h-2v-4h2v4z\"/>\n",
              "    </g>\n",
              "</svg>\n",
              "  </button>\n",
              "\n",
              "<style>\n",
              "  .colab-df-quickchart {\n",
              "      --bg-color: #E8F0FE;\n",
              "      --fill-color: #1967D2;\n",
              "      --hover-bg-color: #E2EBFA;\n",
              "      --hover-fill-color: #174EA6;\n",
              "      --disabled-fill-color: #AAA;\n",
              "      --disabled-bg-color: #DDD;\n",
              "  }\n",
              "\n",
              "  [theme=dark] .colab-df-quickchart {\n",
              "      --bg-color: #3B4455;\n",
              "      --fill-color: #D2E3FC;\n",
              "      --hover-bg-color: #434B5C;\n",
              "      --hover-fill-color: #FFFFFF;\n",
              "      --disabled-bg-color: #3B4455;\n",
              "      --disabled-fill-color: #666;\n",
              "  }\n",
              "\n",
              "  .colab-df-quickchart {\n",
              "    background-color: var(--bg-color);\n",
              "    border: none;\n",
              "    border-radius: 50%;\n",
              "    cursor: pointer;\n",
              "    display: none;\n",
              "    fill: var(--fill-color);\n",
              "    height: 32px;\n",
              "    padding: 0;\n",
              "    width: 32px;\n",
              "  }\n",
              "\n",
              "  .colab-df-quickchart:hover {\n",
              "    background-color: var(--hover-bg-color);\n",
              "    box-shadow: 0 1px 2px rgba(60, 64, 67, 0.3), 0 1px 3px 1px rgba(60, 64, 67, 0.15);\n",
              "    fill: var(--button-hover-fill-color);\n",
              "  }\n",
              "\n",
              "  .colab-df-quickchart-complete:disabled,\n",
              "  .colab-df-quickchart-complete:disabled:hover {\n",
              "    background-color: var(--disabled-bg-color);\n",
              "    fill: var(--disabled-fill-color);\n",
              "    box-shadow: none;\n",
              "  }\n",
              "\n",
              "  .colab-df-spinner {\n",
              "    border: 2px solid var(--fill-color);\n",
              "    border-color: transparent;\n",
              "    border-bottom-color: var(--fill-color);\n",
              "    animation:\n",
              "      spin 1s steps(1) infinite;\n",
              "  }\n",
              "\n",
              "  @keyframes spin {\n",
              "    0% {\n",
              "      border-color: transparent;\n",
              "      border-bottom-color: var(--fill-color);\n",
              "      border-left-color: var(--fill-color);\n",
              "    }\n",
              "    20% {\n",
              "      border-color: transparent;\n",
              "      border-left-color: var(--fill-color);\n",
              "      border-top-color: var(--fill-color);\n",
              "    }\n",
              "    30% {\n",
              "      border-color: transparent;\n",
              "      border-left-color: var(--fill-color);\n",
              "      border-top-color: var(--fill-color);\n",
              "      border-right-color: var(--fill-color);\n",
              "    }\n",
              "    40% {\n",
              "      border-color: transparent;\n",
              "      border-right-color: var(--fill-color);\n",
              "      border-top-color: var(--fill-color);\n",
              "    }\n",
              "    60% {\n",
              "      border-color: transparent;\n",
              "      border-right-color: var(--fill-color);\n",
              "    }\n",
              "    80% {\n",
              "      border-color: transparent;\n",
              "      border-right-color: var(--fill-color);\n",
              "      border-bottom-color: var(--fill-color);\n",
              "    }\n",
              "    90% {\n",
              "      border-color: transparent;\n",
              "      border-bottom-color: var(--fill-color);\n",
              "    }\n",
              "  }\n",
              "</style>\n",
              "\n",
              "  <script>\n",
              "    async function quickchart(key) {\n",
              "      const quickchartButtonEl =\n",
              "        document.querySelector('#' + key + ' button');\n",
              "      quickchartButtonEl.disabled = true;  // To prevent multiple clicks.\n",
              "      quickchartButtonEl.classList.add('colab-df-spinner');\n",
              "      try {\n",
              "        const charts = await google.colab.kernel.invokeFunction(\n",
              "            'suggestCharts', [key], {});\n",
              "      } catch (error) {\n",
              "        console.error('Error during call to suggestCharts:', error);\n",
              "      }\n",
              "      quickchartButtonEl.classList.remove('colab-df-spinner');\n",
              "      quickchartButtonEl.classList.add('colab-df-quickchart-complete');\n",
              "    }\n",
              "    (() => {\n",
              "      let quickchartButtonEl =\n",
              "        document.querySelector('#df-e636a448-d8dc-4c6a-a830-d11379f9a7ce button');\n",
              "      quickchartButtonEl.style.display =\n",
              "        google.colab.kernel.accessAllowed ? 'block' : 'none';\n",
              "    })();\n",
              "  </script>\n",
              "</div>\n",
              "\n",
              "    </div>\n",
              "  </div>\n"
            ]
          },
          "metadata": {},
          "execution_count": 108
        }
      ]
    },
    {
      "cell_type": "code",
      "source": [
        "# Download cleaned csv\n",
        "pandas_df.to_csv('amazon_data_cleaned.csv')"
      ],
      "metadata": {
        "id": "__Rf-51GBugU"
      },
      "execution_count": 111,
      "outputs": []
    }
  ],
  "metadata": {
    "language_info": {
      "name": "python"
    },
    "colab": {
      "provenance": []
    },
    "kernelspec": {
      "name": "python3",
      "display_name": "Python 3"
    }
  },
  "nbformat": 4,
  "nbformat_minor": 0
}